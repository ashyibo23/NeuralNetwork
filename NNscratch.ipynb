{
  "nbformat": 4,
  "nbformat_minor": 0,
  "metadata": {
    "colab": {
      "name": "NNscratch.ipynb",
      "provenance": []
    },
    "kernelspec": {
      "name": "python3",
      "display_name": "Python 3"
    },
    "language_info": {
      "name": "python"
    }
  },
  "cells": [
    {
      "cell_type": "markdown",
      "metadata": {
        "id": "JHyOVS1EyX1y"
      },
      "source": [
        "##A Single Neuron with 3 inputs (Vanilla Network)\n",
        "As in most cases, when you initialize parameters in neural networks, our network will have weights initialized randomly, and biases set as zero to start or 1 but in this case we set up at 2"
      ]
    },
    {
      "cell_type": "code",
      "metadata": {
        "colab": {
          "base_uri": "https://localhost:8080/"
        },
        "id": "w9Dk_LU4o5jj",
        "outputId": "82482c23-84e1-4b22-e8c8-05def18134ec"
      },
      "source": [
        "inputs = [1, 2, 3]\n",
        "weights = [0.2, 0.8, -0.5]\n",
        "bias = 2 \n",
        "\n",
        "output = (inputs[0]*weights[0] + inputs[1]*weights[1]+inputs[2]*weights[2] + bias)\n",
        "print(output)"
      ],
      "execution_count": null,
      "outputs": [
        {
          "output_type": "stream",
          "name": "stdout",
          "text": [
            "2.3\n"
          ]
        }
      ]
    },
    {
      "cell_type": "markdown",
      "metadata": {
        "id": "39QLXdup3CKW"
      },
      "source": [
        "What might we need to change if we have 4 inputs, rather than the 3"
      ]
    },
    {
      "cell_type": "code",
      "metadata": {
        "colab": {
          "base_uri": "https://localhost:8080/"
        },
        "id": "fXZyhgTK26IZ",
        "outputId": "576abe1d-884b-4a53-a5f6-c6cd1b089874"
      },
      "source": [
        "inputs = [ 1.0 , 2.0 , 3.0 , 2.5 ]\n",
        "weights = [ 0.2 , 0.8 , - 0.5 , 1.0 ]\n",
        "bias = 2.0\n",
        "\n",
        "output = (inputs[0]*weights[0] + inputs[1]*weights[1]+inputs[2]*weights[2] + inputs[3]*weights[3] + bias)\n",
        "print(output)\n",
        "\n",
        "# Alternative for above\n",
        "\n",
        "# output = 0\n",
        "# for i in range(len(inputs)):\n",
        "\n",
        "#   output = inputs[i] * weights[i] + output\n",
        "\n",
        "# output += bias\n",
        "\n",
        "# print(output)"
      ],
      "execution_count": null,
      "outputs": [
        {
          "output_type": "stream",
          "name": "stdout",
          "text": [
            "4.8\n"
          ]
        }
      ]
    },
    {
      "cell_type": "markdown",
      "metadata": {
        "id": "65H3SKvM4xxf"
      },
      "source": [
        "#A layer of Neurons\n",
        "Neural networks typically have layers that consist of more than one neuron. Layers are nothing more than groups of neurons. Each neuron in a layer takes exactly the same input — the input given to the layer (which can be either the training data or the output from the previous layer) but contains its own set of weights and its own bias, producing its own unique output. For example Let’s say we have a scenario with 3 neurons in a layer and 4 inputs:\n",
        "\n",
        "we have three sets of weights and three biases, which define three neurons"
      ]
    },
    {
      "cell_type": "code",
      "metadata": {
        "colab": {
          "base_uri": "https://localhost:8080/"
        },
        "id": "mi9HQda64qLd",
        "outputId": "ba9940ad-e401-4b49-e1d7-b511ff22dc07"
      },
      "source": [
        "inputs = [ 1, 2, 3, 2.5 ]\n",
        "weights1 = [ 0.2 , 0.8 , - 0.5 , 1 ]\n",
        "weights2 = [ 0.5 , - 0.91 , 0.26 , - 0.5 ]\n",
        "weights3 = [ - 0.26 , - 0.27 , 0.17 , 0.87 ]\n",
        "\n",
        "bias1 = 2\n",
        "bias2 = 3\n",
        "bias3 = 0.5\n",
        "\n",
        "\n",
        "output1 = 0 \n",
        "output2 = 0\n",
        "output3 = 0\n",
        "\n",
        "# for i in range(len(inputs)):\n",
        "#   output1 = inputs[i] * weights1[i] + output1\n",
        "#   output2 = inputs[i] * weights2[i] + output2\n",
        "#   output3 = inputs[i] * weights3[i] + output3\n",
        "\n",
        "# weighted1 = output1 + bias1\n",
        "# weighted2 = output2 + bias2\n",
        "# weighted3 = output3 + bias3\n",
        "\n",
        "# print([weighted1, weighted2, weighted3])\n",
        "\n",
        "outputs = [\n",
        "# Neuron 1:\n",
        "inputs[0] * weights1[0] +\n",
        "inputs[1] * weights1[1] +\n",
        "inputs[2] * weights1[2] +\n",
        "inputs[3] * weights1[3] + bias1,\n",
        "# Neuron 2:\n",
        "inputs[0] * weights2[0] +\n",
        "inputs[1] * weights2[1] +\n",
        "inputs[2] * weights2[2] +\n",
        "inputs[3] * weights2[3] + bias2,\n",
        "# Neuron 3:\n",
        "inputs[0] * weights3[0] +\n",
        "inputs[1] * weights3[1] +\n",
        "inputs[2] * weights3[2] +\n",
        "inputs[3] * weights3[3] + bias3]\n",
        "\n",
        "print(outputs)\n",
        "\n",
        "\n"
      ],
      "execution_count": null,
      "outputs": [
        {
          "output_type": "stream",
          "name": "stdout",
          "text": [
            "[4.8, 1.21, 2.385]\n"
          ]
        }
      ]
    },
    {
      "cell_type": "code",
      "metadata": {
        "colab": {
          "base_uri": "https://localhost:8080/"
        },
        "id": "JiU1mDVjEM_3",
        "outputId": "2e28e1a2-3009-4ba5-9052-d0fdeab1c192"
      },
      "source": [
        "#Alternative for above\n",
        "\n",
        "inputs = [1, 2, 3, 2.5]\n",
        "weights = [[0.2, 0.8, - 0.5, 1 ], \n",
        "           [0.5, - 0.91, 0.26, - 0.5 ],\n",
        "           [-0.26, - 0.27, 0.17, 0.87 ]]\n",
        "biases = [2, 3, 0.5 ]\n",
        "\n",
        "\n",
        "\n",
        "# Output of current layer\n",
        "layer_outputs = []\n",
        "\n",
        "\n",
        "for neuron_weights, neuron_biases in zip(weights, biases):\n",
        "  #output of given neuron\n",
        "  neuron_output = 0\n",
        "\n",
        "  for n_input, n_weights in zip (inputs, neuron_weights):\n",
        "    neuron_output = n_input * n_weights + neuron_output\n",
        "  ## Add bias\n",
        "  neuron_output += neuron_biases\n",
        "  layer_outputs.append(neuron_output)\n",
        "\n",
        "print(layer_outputs)"
      ],
      "execution_count": null,
      "outputs": [
        {
          "output_type": "stream",
          "name": "stdout",
          "text": [
            "[4.8, 1.21, 2.385]\n"
          ]
        }
      ]
    },
    {
      "cell_type": "markdown",
      "metadata": {
        "id": "K6l6GEuhGWcw"
      },
      "source": [
        "#Dot Product and Vector Addition in Python\n",
        "\n",
        "\\begin{equation}\n",
        "\\vec{a} \\cdot \\vec{b}=\\sum_{i=1}^{n} a_{i} b_{i}=a_{1} b_{1}+a_{2} b_{2}+\\ldots+a_{n} b_{n}\n",
        "\\end{equation}\n",
        "\n",
        "\\begin{equation}\n",
        "\\vec{a}+\\vec{b}=\\left[a_{1}+b_{1}, a_{2}+b_{2}, \\ldots, a_{n}+b_{n}\\right]\n",
        "\\end{equation}\n",
        "\n"
      ]
    },
    {
      "cell_type": "code",
      "metadata": {
        "colab": {
          "base_uri": "https://localhost:8080/"
        },
        "id": "ke_rZjP5b1t1",
        "outputId": "6bc26e8d-16f6-4dd1-e79b-90cf2a0c8f4d"
      },
      "source": [
        "a = [1, 2, 3]\n",
        "b = [2, 3, 4]\n",
        "\n",
        "dot_product = a[0]*b[0] + a[1]*b[1] + a[2]*b[2]\n",
        "print(dot_product)"
      ],
      "execution_count": 3,
      "outputs": [
        {
          "output_type": "stream",
          "name": "stdout",
          "text": [
            "20\n"
          ]
        }
      ]
    },
    {
      "cell_type": "markdown",
      "metadata": {
        "id": "YUwiazMAKAHM"
      },
      "source": [
        "#Succinct way to perform in numpy with dot operator "
      ]
    },
    {
      "cell_type": "code",
      "metadata": {
        "colab": {
          "base_uri": "https://localhost:8080/"
        },
        "id": "hYCeqZQjHdcc",
        "outputId": "50a92c7d-2391-45cd-9cb0-8e75fb01457a"
      },
      "source": [
        "import numpy as np\n",
        "print(np.dot(a, b))"
      ],
      "execution_count": 4,
      "outputs": [
        {
          "output_type": "stream",
          "name": "stdout",
          "text": [
            "20\n"
          ]
        }
      ]
    },
    {
      "cell_type": "markdown",
      "metadata": {
        "id": "fdIOZ1WOKcj5"
      },
      "source": [
        "#A Single Neuron with NumPy"
      ]
    },
    {
      "cell_type": "code",
      "metadata": {
        "colab": {
          "base_uri": "https://localhost:8080/"
        },
        "id": "B9QHSQ7oKmRU",
        "outputId": "51844f93-f393-41be-88ac-de8b048be45f"
      },
      "source": [
        "inputs = [ 1.0 , 2.0 , 3.0 , 2.5 ]\n",
        "weights = [ 0.2 , 0.8 , - 0.5 , 1.0 ]\n",
        "bias = 2.0\n",
        "\n",
        "output = np.dot(inputs, weights) + bias\n",
        "print(output)"
      ],
      "execution_count": null,
      "outputs": [
        {
          "output_type": "stream",
          "name": "stdout",
          "text": [
            "4.8\n"
          ]
        }
      ]
    },
    {
      "cell_type": "markdown",
      "metadata": {
        "id": "jvR9K7XSK93E"
      },
      "source": [
        "#A Layer of Neurons with NumPy"
      ]
    },
    {
      "cell_type": "code",
      "metadata": {
        "colab": {
          "base_uri": "https://localhost:8080/"
        },
        "id": "fS3LROa9K_oB",
        "outputId": "3cd069e9-9b7d-4282-95ad-63d1a2a338f6"
      },
      "source": [
        "inputs = np.array([1.0, 2.0, 3.0, 2.5])\n",
        "weights = np.array([[0.2, 0.8, -0.5, 1],\n",
        "                [0.5, - 0.91, 0.26, -0.5],\n",
        "                [- 0.26, - 0.27 , 0.17 , 0.87]])\n",
        "biases = [2.0, 3.0, 0.5]\n",
        "\n",
        "output = np.dot(weights, inputs) + biases\n",
        "print(output)"
      ],
      "execution_count": null,
      "outputs": [
        {
          "output_type": "stream",
          "name": "stdout",
          "text": [
            "[4.8   1.21  2.385]\n"
          ]
        }
      ]
    },
    {
      "cell_type": "markdown",
      "metadata": {
        "id": "4dNpiHNlqo5b"
      },
      "source": [
        "#Matrix Product\n",
        "\n",
        "\\begin{equation}\n",
        "c_{i j}=a_{i 1} b_{1 j}+a_{i 2} b_{2 j}+\\cdots+a_{i n} b_{n j}=\\sum_{k=1}^{n} a_{i k} b_{k j}\n",
        "\\end{equation}\n"
      ]
    },
    {
      "cell_type": "markdown",
      "metadata": {
        "id": "E7VkqTk9xvWc"
      },
      "source": [
        "#Transposition of the Matrix product\n",
        "\n",
        "\n",
        "\\begin{equation}\n",
        "\\vec{a}.\\vec{b}= a.b^{T}\n",
        "\\end{equation}\n",
        "\n",
        "Transposition simply modifies a matrix in a way that its rows become columns and columns become rows.\n",
        "\n"
      ]
    },
    {
      "cell_type": "code",
      "metadata": {
        "colab": {
          "base_uri": "https://localhost:8080/"
        },
        "id": "d9ei7oTHyGwO",
        "outputId": "84706f1a-61db-4414-8f8c-b9a9ab77390c"
      },
      "source": [
        "#To transform a list into a matrix containing a single row (perform an equivalent operation of turning a vector into row vector)\n",
        "(perform an equivalenarray of shape (n, 1):\n",
        "a = [1, 2, 3]\n",
        "np.expand_dims(np.array(a), axis = 0)"
      ],
      "execution_count": null,
      "outputs": [
        {
          "output_type": "execute_result",
          "data": {
            "text/plain": [
              "array([[1, 2, 3]])"
            ]
          },
          "metadata": {},
          "execution_count": 55
        }
      ]
    },
    {
      "cell_type": "markdown",
      "metadata": {
        "id": "AKflJU6z3ClA"
      },
      "source": [
        "#A Layer of Neurons & Batch of Data with Numpy"
      ]
    },
    {
      "cell_type": "code",
      "metadata": {
        "colab": {
          "base_uri": "https://localhost:8080/"
        },
        "id": "PvnRrDhR5v8X",
        "outputId": "fdff89a2-6746-4ec7-f7db-0ffbe133dda7"
      },
      "source": [
        "inputs = [[1.0, 2.0, 3.0, 2.5 ],\n",
        "          [2.0, 5.0, - 1.0, 2.0],\n",
        "           [-1.5, 2.7, 3.3, - 0.8]]\n",
        "\n",
        "\n",
        "weights = np.array([[0.2, 0.8, - 0.5, 1.0],\n",
        "                    [0.5, - 0.91, 0.26, - 0.5],\n",
        "                    [-0.26, -0.27, 0.17, 0.87]]).T\n",
        "\n",
        "\n",
        "biases = [2.0 , 3.0 , 0.5 ]\n",
        "#np.dot(inputs, np.array(weights).T) + biases\n",
        "output_layer = np.dot(inputs, weights) + biases\n",
        "print(output_layer)"
      ],
      "execution_count": 13,
      "outputs": [
        {
          "output_type": "stream",
          "name": "stdout",
          "text": [
            "[[ 4.8    1.21   2.385]\n",
            " [ 8.9   -1.81   0.2  ]\n",
            " [ 1.41   1.051  0.026]]\n"
          ]
        }
      ]
    }
  ]
}